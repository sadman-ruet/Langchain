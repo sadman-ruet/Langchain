{
 "cells": [
  {
   "cell_type": "markdown",
   "metadata": {},
   "source": [
    "## Import Required Libraries ##"
   ]
  },
  {
   "cell_type": "code",
   "execution_count": 1,
   "metadata": {},
   "outputs": [
    {
     "name": "stderr",
     "output_type": "stream",
     "text": [
      "c:\\Users\\User\\anaconda3\\envs\\llm\\Lib\\site-packages\\tqdm\\auto.py:21: TqdmWarning: IProgress not found. Please update jupyter and ipywidgets. See https://ipywidgets.readthedocs.io/en/stable/user_install.html\n",
      "  from .autonotebook import tqdm as notebook_tqdm\n"
     ]
    }
   ],
   "source": [
    "import os\n",
    "import dotenv\n",
    "import google.generativeai as genai\n",
    "dotenv.load_dotenv()\n",
    "os.environ['PINECONE_API_KEY'] = os.getenv('PINECONE_API_KEY')\n",
    "os.environ[\"GOOGLE_API_KEY\"] = os.getenv(\"GOOGLE_API_KEY\")\n",
    "genai.configure(api_key=os.environ[\"GOOGLE_API_KEY\"])"
   ]
  },
  {
   "cell_type": "markdown",
   "metadata": {},
   "source": [
    "## Load Game of Throne Book using PyPDF ##"
   ]
  },
  {
   "cell_type": "code",
   "execution_count": 2,
   "metadata": {},
   "outputs": [],
   "source": [
    "from langchain_community.document_loaders import PyPDFLoader\n",
    "\n",
    "loader = PyPDFLoader(\"Books/got.pdf\")\n",
    "data = loader.load()"
   ]
  },
  {
   "cell_type": "code",
   "execution_count": 3,
   "metadata": {},
   "outputs": [
    {
     "name": "stdout",
     "output_type": "stream",
     "text": [
      "Total pages: 755\n"
     ]
    }
   ],
   "source": [
    "print(f\"Total pages: {len(data)}\")"
   ]
  },
  {
   "cell_type": "code",
   "execution_count": 4,
   "metadata": {},
   "outputs": [
    {
     "name": "stdout",
     "output_type": "stream",
     "text": [
      "Total number of documents: 2249\n"
     ]
    }
   ],
   "source": [
    "from langchain.text_splitter import RecursiveCharacterTextSplitter\n",
    "\n",
    "# Split data\n",
    "text_splitter = RecursiveCharacterTextSplitter(chunk_size=1000)\n",
    "docs = text_splitter.split_documents(data)\n",
    "\n",
    "print(\"Total number of documents:\", len(docs))"
   ]
  },
  {
   "cell_type": "markdown",
   "metadata": {},
   "source": [
    "### Look into the content of docs ###"
   ]
  },
  {
   "cell_type": "code",
   "execution_count": 5,
   "metadata": {},
   "outputs": [
    {
     "name": "stdout",
     "output_type": "stream",
     "text": [
      "Page no. 5:\n",
      "previous | Table of Contents | next\n",
      "PROLOGUE\n",
      "We should start back,” Gared urged as the woods began to grow dark around them. “The \n",
      "wildlings are dead.”\n",
      "“Do the dead frighten you?” Ser Waymar Royce asked with just the hint of a smile.\n",
      "Gared did not rise to the bait. He was an old man, past fifty, and he had seen the \n",
      "lordlings come and go. “Dead is dead,” he said. “We have no business with the dead.”\n",
      "“Are they dead?” Royce asked softly. “What proof have we?”\n",
      "“Will saw them,” Gared said. “If he says they are dead, that’s proof enough for me.”\n",
      "Will had known they would drag him into the quarrel sooner or later. He wished it had \n",
      "been later rather than sooner. “My mother told me that dead men sing no songs,” he put \n",
      "in.\n",
      "“My wet nurse said the same thing, Will,” Royce replied. “Never believe anything you \n",
      "hear at a woman’s tit. There are things to be learned even from the dead.” His voice \n",
      "echoed, too loud in the twilit forest.\n",
      "Page no. 5:\n",
      "hear at a woman’s tit. There are things to be learned even from the dead.” His voice \n",
      "echoed, too loud in the twilit forest.\n",
      "“We have a long ride before us,” Gared pointed out. “Eight days, maybe nine. And night \n",
      "is falling.”\n",
      "Ser Waymar Royce glanced at the sky with disinterest. “It does that every day about this \n",
      "time. Are you unmanned by the dark, Gared?”\n",
      "Will could see the tightness around Gared’s mouth, the barely suppressed anger in his \n",
      "eyes under the thick black hood of his cloak. Gared had spent forty years in the Night’s \n",
      "Watch, man and boy, and he was not accustomed to being made light of. Yet it was more \n",
      "than that. Under the wounded pride, Will could sense something else in the older man. \n",
      "You could taste it; a nervous tension that came perilous close to fear.\n",
      "Will shared his unease. He had been four years on the Wall. The first time he had been \n",
      "sent beyond, all the old stories had come rushing back, and his bowels had turned to\n"
     ]
    }
   ],
   "source": [
    "for doc in docs[3:5]: #for slice 3-4\n",
    "\n",
    "    print(f\"Page no. {doc.metadata['page']}:\\n{doc.page_content}\")"
   ]
  },
  {
   "cell_type": "markdown",
   "metadata": {},
   "source": [
    "### Loading Genai's Text-embedding-004 model ###"
   ]
  },
  {
   "cell_type": "code",
   "execution_count": 6,
   "metadata": {},
   "outputs": [
    {
     "name": "stdout",
     "output_type": "stream",
     "text": [
      "Lenght of embedding vector :768\n"
     ]
    }
   ],
   "source": [
    "from langchain_google_genai import GoogleGenerativeAIEmbeddings\n",
    "\n",
    "\n",
    "embeddings = GoogleGenerativeAIEmbeddings(model=\"models/text-embedding-004\")\n",
    "vector = embeddings.embed_query(\"hello, world!\")\n",
    "print(f\"Lenght of embedding vector :{len(vector)}\")"
   ]
  },
  {
   "cell_type": "markdown",
   "metadata": {},
   "source": [
    "### Loading Pinecone and Creating vectorstore ###"
   ]
  },
  {
   "cell_type": "code",
   "execution_count": 7,
   "metadata": {},
   "outputs": [],
   "source": [
    "from langchain_pinecone import PineconeVectorStore\n",
    "\n",
    "index_name = \"harrypotter-qna\"\n",
    "\n",
    "vectorstore = PineconeVectorStore.from_documents(docs, embeddings, index_name=index_name)"
   ]
  },
  {
   "cell_type": "code",
   "execution_count": 8,
   "metadata": {},
   "outputs": [],
   "source": [
    "retriever = vectorstore.as_retriever(search_type=\"similarity\", search_kwargs={'k': 5})\n",
    "\n",
    "retrieved_docs = retriever.invoke(\"What is kings landing?\")"
   ]
  },
  {
   "cell_type": "code",
   "execution_count": 9,
   "metadata": {},
   "outputs": [
    {
     "data": {
      "text/plain": [
       "5"
      ]
     },
     "execution_count": 9,
     "metadata": {},
     "output_type": "execute_result"
    }
   ],
   "source": [
    "len(retrieved_docs)"
   ]
  },
  {
   "cell_type": "code",
   "execution_count": 10,
   "metadata": {},
   "outputs": [
    {
     "name": "stdout",
     "output_type": "stream",
     "text": [
      "-----------\n",
      "High overhead, the far-eyes sang out from the rigging. Captain Moreo came scrambling \n",
      "across the deck, giving orders, and all around them the Storm Dancer burst into frenetic \n",
      "activity as King’s Landing slid into view atop its three high hills.\n",
      "Three hundred years ago, Catelyn knew, those heights had been covered with forest, and \n",
      "only a handful of fisherfolk had lived on the north shore of the Blackwater Rush where \n",
      "that deep, swift river flowed into the sea. Then Aegon the Conqueror had sailed from \n",
      "Dragonstone. It was here that his army had put ashore, and there on the highest hill that \n",
      "he built his first crude redoubt of wood and earth.\n",
      "Now the city covered the shore as far as Catelyn could see; manses and arbors and \n",
      "granaries, brick storehouses and timbered inns and merchant’s stalls, taverns and \n",
      "graveyards and brothels, all piled one on another. She could hear the clamor of the fish \n",
      "market even at this distance. Between the buildings were broad roads lined with trees,\n",
      "-----------\n",
      "High overhead, the far-eyes sang out from the rigging. Captain Moreo came scrambling \n",
      "across the deck, giving orders, and all around them the Storm Dancer burst into frenetic \n",
      "activity as King’s Landing slid into view atop its three high hills.\n",
      "Three hundred years ago, Catelyn knew, those heights had been covered with forest, and \n",
      "only a handful of fisherfolk had lived on the north shore of the Blackwater Rush where \n",
      "that deep, swift river flowed into the sea. Then Aegon the Conqueror had sailed from \n",
      "Dragonstone. It was here that his army had put ashore, and there on the highest hill that \n",
      "he built his first crude redoubt of wood and earth.\n",
      "Now the city covered the shore as far as Catelyn could see; manses and arbors and \n",
      "granaries, brick storehouses and timbered inns and merchant’s stalls, taverns and \n",
      "graveyards and brothels, all piled one on another. She could hear the clamor of the fish \n",
      "market even at this distance. Between the buildings were broad roads lined with trees,\n",
      "-----------\n",
      "High overhead, the far-eyes sang out from the rigging. Captain Moreo came scrambling \n",
      "across the deck, giving orders, and all around them the Storm Dancer burst into frenetic \n",
      "activity as King’s Landing slid into view atop its three high hills.\n",
      "Three hundred years ago, Catelyn knew, those heights had been covered with forest, and \n",
      "only a handful of fisherfolk had lived on the north shore of the Blackwater Rush where \n",
      "that deep, swift river flowed into the sea. Then Aegon the Conqueror had sailed from \n",
      "Dragonstone. It was here that his army had put ashore, and there on the highest hill that \n",
      "he built his first crude redoubt of wood and earth.\n",
      "Now the city covered the shore as far as Catelyn could see; manses and arbors and \n",
      "granaries, brick storehouses and timbered inns and merchant’s stalls, taverns and \n",
      "graveyards and brothels, all piled one on another. She could hear the clamor of the fish \n",
      "market even at this distance. Between the buildings were broad roads lined with trees,\n",
      "-----------\n",
      "One thing all the stories agreed on: King Robert was dead. The bells in the seven towers \n",
      "of the Great Sept of Baelor had tolled for a day and a night, the thunder of their grief \n",
      "rolling across the city in a bronze tide. They only rang the bells like that for the death of \n",
      "a king, a tanner’s boy told Arya.\n",
      "All she wanted was to go home, but leaving King’s Landing was not so easy as she had \n",
      "hoped. Talk of war was on every lip, and gold cloaks were as thick on the city walls as \n",
      "fleas on . . . well, her, for one. She had been sleeping in Flea Bottom, on rooftops and in \n",
      "stables, wherever she could find a place to lie down, and it hadn’t taken her long to learn \n",
      "that the district was well named.\n",
      "Every day since her escape from the Red Keep, Arya had visited each of the seven city \n",
      "gates in turn. The Dragon Gate, the Lion Gate, and the Old Gate were closed and barred. \n",
      "The Mud Gate and the Gate of the Gods were open, but only to those who wanted to\n",
      "-----------\n",
      "One thing all the stories agreed on: King Robert was dead. The bells in the seven towers \n",
      "of the Great Sept of Baelor had tolled for a day and a night, the thunder of their grief \n",
      "rolling across the city in a bronze tide. They only rang the bells like that for the death of \n",
      "a king, a tanner’s boy told Arya.\n",
      "All she wanted was to go home, but leaving King’s Landing was not so easy as she had \n",
      "hoped. Talk of war was on every lip, and gold cloaks were as thick on the city walls as \n",
      "fleas on . . . well, her, for one. She had been sleeping in Flea Bottom, on rooftops and in \n",
      "stables, wherever she could find a place to lie down, and it hadn’t taken her long to learn \n",
      "that the district was well named.\n",
      "Every day since her escape from the Red Keep, Arya had visited each of the seven city \n",
      "gates in turn. The Dragon Gate, the Lion Gate, and the Old Gate were closed and barred. \n",
      "The Mud Gate and the Gate of the Gods were open, but only to those who wanted to\n"
     ]
    }
   ],
   "source": [
    "for doc in retrieved_docs:\n",
    "    print(\"-----------\")\n",
    "    print(doc.page_content)"
   ]
  },
  {
   "cell_type": "code",
   "execution_count": 11,
   "metadata": {},
   "outputs": [],
   "source": [
    "from langchain_google_genai import ChatGoogleGenerativeAI\n",
    "\n",
    "llm = ChatGoogleGenerativeAI(model=\"gemini-2.0-flash\",temperature=0.3, max_tokens=500)"
   ]
  },
  {
   "cell_type": "code",
   "execution_count": 12,
   "metadata": {},
   "outputs": [],
   "source": [
    "from langchain_core.prompts import ChatPromptTemplate\n",
    "\n",
    "system_prompt = (\n",
    "    \"You are an assistant for question-answering tasks. \"\n",
    "    \"Use the following pieces of retrieved context to answer \"\n",
    "    \"the question. If you don't know the answer, say that you \"\n",
    "    \"don't know. Use three to five sentences maximum and keep the \"\n",
    "    \"answer concise.\"\n",
    "    \"\\n\\n\"\n",
    "    \"{context}\"\n",
    ")\n",
    "\n",
    "prompt = ChatPromptTemplate.from_messages(\n",
    "    [\n",
    "        (\"system\", system_prompt),\n",
    "        (\"human\", \"{input}\"),\n",
    "    ]\n",
    ")"
   ]
  },
  {
   "cell_type": "code",
   "execution_count": 13,
   "metadata": {},
   "outputs": [],
   "source": [
    "from langchain.chains import create_retrieval_chain\n",
    "from langchain.chains.combine_documents import create_stuff_documents_chain\n",
    "\n",
    "question_answer_chain = create_stuff_documents_chain(llm, prompt)\n",
    "rag_chain = create_retrieval_chain(retriever, question_answer_chain)"
   ]
  },
  {
   "cell_type": "code",
   "execution_count": 14,
   "metadata": {},
   "outputs": [
    {
     "name": "stdout",
     "output_type": "stream",
     "text": [
      "King Robert Baratheon was killed by a boar during a hunt. However, it is implied that the wine he drank before the hunt may have been poisoned, leading to speculation about who was responsible for his death. Varys wonders who gave the king the wine. Lysa named Cersei in the letter she sent to Winterfell, but now she seemed certain that Tyrion was the killer.\n"
     ]
    }
   ],
   "source": [
    "response = rag_chain.invoke({\"input\": \"who killed robbert baratheon?\"})\n",
    "print(response[\"answer\"])"
   ]
  },
  {
   "cell_type": "code",
   "execution_count": 15,
   "metadata": {},
   "outputs": [
    {
     "name": "stdout",
     "output_type": "stream",
     "text": [
      "King Robert Baratheon died while hunting a boar. Some stories say he was killed by the boar, while others suggest he died from being poisoned by Varys the Spider or the queen. Another story says he died from choking on a fish bone or a pox. The king himself blamed the wine he drank while hunting.\n"
     ]
    }
   ],
   "source": [
    "response = rag_chain.invoke({\"input\": \"who killed robbert baratheon? how did he die?\"})\n",
    "print(response[\"answer\"])"
   ]
  },
  {
   "cell_type": "code",
   "execution_count": 16,
   "metadata": {},
   "outputs": [
    {
     "name": "stdout",
     "output_type": "stream",
     "text": [
      "According to Robb, Joffrey is Robert's eldest trueborn son, making him the rightful heir to the throne by the laws of the realm. If Joffrey were to die, his younger brother Tommen would be next in line to be king.\n"
     ]
    }
   ],
   "source": [
    "response = rag_chain.invoke({\"input\": \"who is next king after robbert\"})\n",
    "print(response[\"answer\"])"
   ]
  },
  {
   "cell_type": "code",
   "execution_count": null,
   "metadata": {},
   "outputs": [],
   "source": []
  }
 ],
 "metadata": {
  "kernelspec": {
   "display_name": "llm",
   "language": "python",
   "name": "python3"
  },
  "language_info": {
   "codemirror_mode": {
    "name": "ipython",
    "version": 3
   },
   "file_extension": ".py",
   "mimetype": "text/x-python",
   "name": "python",
   "nbconvert_exporter": "python",
   "pygments_lexer": "ipython3",
   "version": "3.12.9"
  }
 },
 "nbformat": 4,
 "nbformat_minor": 2
}
